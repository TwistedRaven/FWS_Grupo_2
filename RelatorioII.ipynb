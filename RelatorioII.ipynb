{
 "cells": [
  {
   "cell_type": "code",
   "execution_count": null,
   "metadata": {},
   "outputs": [],
   "source": [
    "#Relatorio Entrega II cadeira Web-semantica @ Fcul 2020-2021\n",
    "# Realizado por João Pinto(55018) e Ricardo Meireles(55841) "
   ]
  },
  {
   "cell_type": "code",
   "execution_count": null,
   "metadata": {},
   "outputs": [],
   "source": [
    "Para a proxima fase da entrega do trabalho foram feitas as seguintes mudanças/funcionalidades\n",
    "\n",
    "1) Revisão dos triplos após feedback do docente, nomeadamente:\n",
    "    \n",
    "    1) Separaçao do primeiro e ultimo nome\n",
    "    2) Separaçao dos anos jogados do formato 1984-1986 para addicionar os anos todos jogados eg: 1984,1985,1986\n",
    "    3) tratamento do player id para não conter o nome\n",
    "    4) Tratamento do birth year e birth place\n",
    "    \n",
    "    \n",
    "2) Ligaçao e utilizaçao do reasoner Fuseki para realizar as queries em vez de usar a biblioteca rdflib\n",
    "\n",
    "\n",
    "3) Leitura e tratamento de um ficheiro com o nome e info as equipas para um melhor estruturamento da informaçao\n",
    "\n",
    "4) Utilizaçao do namespace Schema.org para uniformação da informaçao. Nesta caso usamos o https://schema.org/Person , https://schema.org/athlete\n",
    "   e https://schema.org/SportsTeam utilizando as suas proprieadades sempre que possivel (excepcao termos muito especificos ao futebol Americano)\n",
    "   nos triplos. Por exemplo usando o schema addicionamos os jogadores a equipa através da propriedade \"athlete\" do Sports Team alterando a forma como o estavamos a fazer anteriormente.\n",
    "\n",
    "5) Usando um SPARQLWrapper fazemos um query á dbpedia usando a propriedade rdfs:label = \"nome de equipa\" pedindo informaçao extra nomedamente\n",
    "    \n",
    "    1) Treinador da equipa\n",
    "    2) CEO da equipa\n",
    "    3) Abstracto da equipa\n",
    "    4) Número de \"superbowls\" conquistadas\n",
    "    \n",
    "    Após feito o query tratamos a informaçao recebida em JSON e acrescentamo-la atráves de triplos aos dados de cada equipa.\n",
    "    \n",
    " 6) Regras \n",
    "\n",
    "\n",
    " 7) Reasoner\n",
    "\n",
    "\n",
    "        "
   ]
  }
 ],
 "metadata": {
  "kernelspec": {
   "display_name": "Python 3",
   "language": "python",
   "name": "python3"
  },
  "language_info": {
   "codemirror_mode": {
    "name": "ipython",
    "version": 3
   },
   "file_extension": ".py",
   "mimetype": "text/x-python",
   "name": "python",
   "nbconvert_exporter": "python",
   "pygments_lexer": "ipython3",
   "version": "3.8.3"
  }
 },
 "nbformat": 4,
 "nbformat_minor": 4
}
