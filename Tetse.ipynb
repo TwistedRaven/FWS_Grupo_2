{
 "cells": [
  {
   "cell_type": "code",
   "execution_count": 5,
   "metadata": {},
   "outputs": [],
   "source": [
    "import csv\n",
    "import rdflib\n",
    "from rdflib import Graph, Literal, Namespace, URIRef\n",
    "from rdflib.namespace import DCTERMS, RDF, RDFS, FOAF, XSD"
   ]
  },
  {
   "cell_type": "code",
   "execution_count": 8,
   "metadata": {},
   "outputs": [],
   "source": [
    "NFL = Namespace('http://www.nfl.com/')\n",
    "\n",
    "dados = Graph()\n",
    "\n",
    "product = URIRef(NFL+\"123\")\n",
    "dados.add((product, RDF.type, NFL.Product))\n",
    "dados.add((product, RDFS.label, Literal(\"123\", lang=\"en\")))"
   ]
  },
  {
   "cell_type": "code",
   "execution_count": 9,
   "metadata": {},
   "outputs": [
    {
     "name": "stdout",
     "output_type": "stream",
     "text": [
      "@prefix rdfs: <http://www.w3.org/2000/01/rdf-schema#> .\n",
      "\n",
      "<http://www.nfl.com/123> a <http://www.nfl.com/Product> ;\n",
      "    rdfs:label \"123\"@en .\n",
      "\n",
      "\n"
     ]
    }
   ],
   "source": [
    "print(dados.serialize(format='n3').decode(\"utf-8\"))"
   ]
  },
  {
   "cell_type": "code",
   "execution_count": null,
   "metadata": {},
   "outputs": [],
   "source": []
  }
 ],
 "metadata": {
  "kernelspec": {
   "display_name": "Python 3",
   "language": "python",
   "name": "python3"
  },
  "language_info": {
   "codemirror_mode": {
    "name": "ipython",
    "version": 3
   },
   "file_extension": ".py",
   "mimetype": "text/x-python",
   "name": "python",
   "nbconvert_exporter": "python",
   "pygments_lexer": "ipython3",
   "version": "3.8.3"
  }
 },
 "nbformat": 4,
 "nbformat_minor": 4
}
